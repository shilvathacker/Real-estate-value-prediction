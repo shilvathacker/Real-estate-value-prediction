{
 "cells": [
  {
   "cell_type": "code",
   "execution_count": 4,
   "id": "fb6dfc5a",
   "metadata": {},
   "outputs": [],
   "source": [
    "from joblib import dump, load\n",
    "import numpy as np\n",
    "model = load('realestate.joblib')"
   ]
  },
  {
   "cell_type": "code",
   "execution_count": 12,
   "id": "0e268781",
   "metadata": {},
   "outputs": [
    {
     "data": {
      "text/plain": [
       "array([19.834])"
      ]
     },
     "execution_count": 12,
     "metadata": {},
     "output_type": "execute_result"
    }
   ],
   "source": [
    "features = np.array([[-0.4613254,  1.22474487, -0.72437731,  0.2345, -1.24995952,\n",
    "       -1.56482553, -0.63315717,  1.28708093, -0.8260802 , -0.34670673,\n",
    "       -1.39707095, -0.77512458, -0.46346653]])\n",
    "model.predict(features)"
   ]
  }
 ],
 "metadata": {
  "kernelspec": {
   "display_name": "Python 3 (ipykernel)",
   "language": "python",
   "name": "python3"
  },
  "language_info": {
   "codemirror_mode": {
    "name": "ipython",
    "version": 3
   },
   "file_extension": ".py",
   "mimetype": "text/x-python",
   "name": "python",
   "nbconvert_exporter": "python",
   "pygments_lexer": "ipython3",
   "version": "3.10.11"
  }
 },
 "nbformat": 4,
 "nbformat_minor": 5
}
